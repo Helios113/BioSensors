{
 "cells": [
  {
   "cell_type": "code",
   "execution_count": null,
   "metadata": {},
   "outputs": [],
   "source": [
    "import torch\n",
    "import numpy as np\n",
    "from ml import PINN\n",
    "from data_loader import BioSensorsDataset\n",
    "from torch.utils.data import DataLoader\n"
   ]
  },
  {
   "cell_type": "code",
   "execution_count": null,
   "metadata": {},
   "outputs": [],
   "source": [
    "\n",
    "dataset = BioSensorsDataset(\"Data/data_in.csv\",\"Data/new_data.csv\")\n",
    "data = DataLoader(dataset, batch_size=1, shuffle=True)\n",
    "\n",
    "net = PINN(2)\n",
    "\n",
    "optim = torch.optim.SGD(net.parameters(), lr=0.01)\n",
    "loss = torch.nn.MSELoss()\n",
    "\n"
   ]
  },
  {
   "cell_type": "code",
   "execution_count": null,
   "metadata": {},
   "outputs": [],
   "source": [
    "net.train()\n",
    "for l in range(3000):\n",
    "    ls = 0\n",
    "    for i,j in enumerate(data):\n",
    "        optim.zero_grad()\n",
    "        res = net(j[0].T)\n",
    "        output = loss(res, j[1])        \n",
    "        output.backward()\n",
    "        optim.step()\n",
    "        ls+=output.item()\n",
    "    print(ls)"
   ]
  },
  {
   "cell_type": "code",
   "execution_count": null,
   "metadata": {},
   "outputs": [],
   "source": [
    "net.eval()\n",
    "for i,j in enumerate(data):\n",
    "    res = net(j[0].T)\n",
    "    j[1]        \n",
    "    print(res[0])\n",
    "    print(j[1][0])\n",
    "    print(\"_____\")\n",
    "    \n",
    "    "
   ]
  }
 ],
 "metadata": {
  "kernelspec": {
   "display_name": "bio_sensors",
   "language": "python",
   "name": "python3"
  },
  "language_info": {
   "codemirror_mode": {
    "name": "ipython",
    "version": 3
   },
   "file_extension": ".py",
   "mimetype": "text/x-python",
   "name": "python",
   "nbconvert_exporter": "python",
   "pygments_lexer": "ipython3",
   "version": "3.10.10"
  },
  "orig_nbformat": 4
 },
 "nbformat": 4,
 "nbformat_minor": 2
}
